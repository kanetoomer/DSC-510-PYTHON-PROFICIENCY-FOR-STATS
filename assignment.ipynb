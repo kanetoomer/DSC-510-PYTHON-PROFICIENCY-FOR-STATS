{
 "cells": [
  {
   "metadata": {},
   "cell_type": "markdown",
   "source": "My imports",
   "id": "4080dcc3139d0fd1"
  },
  {
   "metadata": {
    "ExecuteTime": {
     "end_time": "2024-05-22T18:28:09.820547Z",
     "start_time": "2024-05-22T18:28:09.810155Z"
    }
   },
   "cell_type": "code",
   "source": [
    "import pandas as pd\n",
    "import numpy as np\n",
    "from scipy import stats"
   ],
   "id": "8355bf446f93547c",
   "outputs": [],
   "execution_count": 105
  },
  {
   "metadata": {},
   "cell_type": "markdown",
   "source": "Step 1: Create a Python script that generates a synthetic dataset matching the description of your study. The dataset should be saved as a CSV file named \"exercise_data.csv\".",
   "id": "97b29953230faa7a"
  },
  {
   "metadata": {
    "ExecuteTime": {
     "end_time": "2024-05-22T18:28:09.960731Z",
     "start_time": "2024-05-22T18:28:09.951421Z"
    }
   },
   "cell_type": "code",
   "source": [
    "def generate_synthetic_data(filename='exercise_data.csv'):\n",
    "    \n",
    "    # Setting up a seed for reproducibility\n",
    "    np.random.seed(1)\n",
    "    \n",
    "    # My constants\n",
    "    num_participants = 100\n",
    "    exercise_groups = ['jogging', 'weightlifting', 'yoga']\n",
    "    pre_exercise_mean = 120\n",
    "    pre_exercise_std = 10\n",
    "    bp_changes = {'jogging': -5, 'weightlifting': -3, 'yoga': -7}\n",
    "    \n",
    "    # Generating dataset\n",
    "    participant_ids = np.arange(1, num_participants + 1)\n",
    "    exercise_group_assignments = np.random.choice(exercise_groups, num_participants)\n",
    "    pre_exercise_bp = np.random.normal(pre_exercise_mean, pre_exercise_std, num_participants).astype(int)\n",
    "    post_exercise_bp = (pre_exercise_bp + np.vectorize(bp_changes.get)(exercise_group_assignments) + np.random.normal(0, 3, num_participants)).astype(int)\n",
    "    \n",
    "    # Creating and saving data frame\n",
    "    df = pd.DataFrame({\n",
    "        'Participant ID': participant_ids,\n",
    "        'Exercise Group': exercise_group_assignments,\n",
    "        'Pre-Exercise Systolic Blood Pressure': pre_exercise_bp,\n",
    "        'Post-Exercise Systolic Blood Pressure': post_exercise_bp,\n",
    "    })\n",
    "    \n",
    "    df.to_csv(filename, index=False)\n",
    "    \n",
    "    # Printing the results\n",
    "    print(\"Synthetic dataset save to 'exercise_data.csv'.\")"
   ],
   "id": "ea324aadcb385f61",
   "outputs": [],
   "execution_count": 106
  },
  {
   "metadata": {},
   "cell_type": "markdown",
   "source": "In step 1, I am using Numpy to generate the synthetic data set that simulates the blood pressure measurements of participants in a study. I am using Numpy's random number generator to create random participant IDs, exercise group assignments, pre-exercise blood pressure measurements, and post-exercise blood pressure measurements. I am trying to ensure that the synthetic dataset follows the parameters of the study, such as the mean and standard deviation of pre-exercise blood pressure, as well as the effects of different exercise regimens on blood pressure. This task allows for controlled experimentation and hypothesis testing in subsequent analysis.",
   "id": "258fde6772f3f122"
  },
  {
   "metadata": {},
   "cell_type": "markdown",
   "source": "Step 2: Write a Python script to read the \"exercise_data.csv\" file and print the participant with the highest pre-exercise systolic blood pressure in each exercise group.",
   "id": "1ee0a76995143405"
  },
  {
   "metadata": {
    "ExecuteTime": {
     "end_time": "2024-05-22T18:28:10.006145Z",
     "start_time": "2024-05-22T18:28:09.999692Z"
    }
   },
   "cell_type": "code",
   "source": [
    "def find_highest_pre_exercise_bp(df):\n",
    "\n",
    "    # Grouping participants by exercise group and finding participant w/ highest pre-exercise systolic bp\n",
    "    max_pre_bp_participants = df.loc[df.groupby('Exercise Group')['Pre-Exercise Systolic Blood Pressure'].idxmax()]\n",
    "    \n",
    "    # Printing the results\n",
    "    print(\"Participant w/ the highest pre-exercise systolic blood pressure in each exercise group: \")\n",
    "    print(max_pre_bp_participants[['Exercise Group', 'Participant ID', 'Pre-Exercise Systolic Blood Pressure']])"
   ],
   "id": "213da49ebd3070cb",
   "outputs": [],
   "execution_count": 107
  },
  {
   "metadata": {},
   "cell_type": "markdown",
   "source": "In step 2, I am using Pandas to load the dataset from the CSV file into a DataFrame. Here I am grouping each participant w/ their highest pre-exercise bp. By identifying participants with the highest pre-exercise blood pressure in each exercise group, we can gain insights into the distribution of blood pressure measurements within each group.",
   "id": "cc51c35d23d6b452"
  },
  {
   "metadata": {},
   "cell_type": "markdown",
   "source": "Step 3: Write a Python function that sorts the list based on blood pressure and displays the full record of the top 5.",
   "id": "1b8f0973cffbcab0"
  },
  {
   "metadata": {
    "ExecuteTime": {
     "end_time": "2024-05-22T18:28:10.127787Z",
     "start_time": "2024-05-22T18:28:10.120173Z"
    }
   },
   "cell_type": "code",
   "source": [
    "def top_5_by_blood_pressure(df, column):\n",
    "    \n",
    "    # Sorting the df based on the name of the column in descending order\n",
    "    sorted_df = df.sort_values(by=column, ascending=False)\n",
    "    \n",
    "    # Displaying the full record of the top 5 participants\n",
    "    print(\"Top 5 participants base on \", column + \": \")\n",
    "    print(sorted_df.head(5))"
   ],
   "id": "35815506e06fb535",
   "outputs": [],
   "execution_count": 108
  },
  {
   "metadata": {},
   "cell_type": "markdown",
   "source": "In step  3, the DataFrame is sorted based on pre-exercise blood pressure to identify the top 5 participants with the highest blood pressure measurements. I am using the Pandas library to facilitate the sorting and filtering operations efficiently. Sorting participants by blood pressure allows me to identify extreme values or outliers in the dataset. By displaying the top 5 participants, we are able to observe the range and variability of blood pressure measurements within the study population.",
   "id": "26bd9429b8df910f"
  },
  {
   "metadata": {},
   "cell_type": "markdown",
   "source": "Step 4: Write a Python script that assumes that blood pressure measurements were taken monthly. Compute and print the average change in blood pressure for each exercise group. Note: This is hypothetical as the original study is for 6 weeks only.",
   "id": "88bce02b47fce708"
  },
  {
   "metadata": {
    "ExecuteTime": {
     "end_time": "2024-05-22T18:28:10.172552Z",
     "start_time": "2024-05-22T18:28:10.165135Z"
    }
   },
   "cell_type": "code",
   "source": [
    "def compute_average_monthly_change(df):\n",
    "    \n",
    "    # Calculating the change in bp\n",
    "    df['Change in Blood Pressure'] = df['Post-Exercise Systolic Blood Pressure'] - df['Pre-Exercise Systolic Blood Pressure']\n",
    "    \n",
    "    # Converting the 6-week change to a monthly change \n",
    "    df['Monthly Change in Blood Pressure'] = df['Change in Blood Pressure'] * (4/6)\n",
    "    \n",
    "    # Computing avg monthly change for each exercise group\n",
    "    avg_monthly_change = df.groupby('Exercise Group')['Monthly Change in Blood Pressure'].mean()\n",
    "    \n",
    "    # Printing my results\n",
    "    print(\"Average monthly change in blood pressure for each exercise group: \")\n",
    "    print(avg_monthly_change)"
   ],
   "id": "5b653f8b61b0a8d5",
   "outputs": [],
   "execution_count": 109
  },
  {
   "metadata": {},
   "cell_type": "markdown",
   "source": "In step 4, I am computing the average monthly change in blood pressure for each exercise group. This involves subtracting pre-exercise blood pressure from post-exercise blood pressure, adjusting for the duration of the exercise program, and averaging the changes across participants in each group. By calculating the average monthly change in blood pressure, I can quantify the effectiveness of each exercise regimen in reducing blood pressure over time. This analysis provides insights into the potential long-term benefits of different exercise programs on cardiovascular health.",
   "id": "19abfe13bbe94ec2"
  },
  {
   "metadata": {},
   "cell_type": "markdown",
   "source": "Step 5: Search for the 5 participants from the pre-exercise (Topic 4) and find their post-exercise blood pressure. Produce a table that compares their pre- and post-exercise pressure and displays the difference.",
   "id": "9a37c44cc20cd3e8"
  },
  {
   "metadata": {
    "ExecuteTime": {
     "end_time": "2024-05-22T18:28:10.238103Z",
     "start_time": "2024-05-22T18:28:10.230983Z"
    }
   },
   "cell_type": "code",
   "source": [
    "def compare_pre_post_bp(df, top_5_df):\n",
    "    \n",
    "    comparison_df = top_5_df.copy()\n",
    "    comparison_df['Post-Exercise Systolic Blood Pressure'] = df.loc[\n",
    "        df['Participant ID'].isin(top_5_df['Participant ID']), \n",
    "        'Post-Exercise Systolic Blood Pressure'\n",
    "    ].values\n",
    "    comparison_df['Difference'] = comparison_df['Post-Exercise Systolic Blood Pressure'] - comparison_df['Pre-Exercise Systolic Blood Pressure']\n",
    "    return comparison_df[['Participant ID', 'Pre-Exercise Systolic Blood Pressure', 'Post-Exercise Systolic Blood Pressure', 'Difference']]\n",
    "\n",
    "    # Printing the results\n",
    "    print(\"Comparison of the pre- and post-exercise blood pressure for the top 5 participants:\")\n",
    "    print(comparison_df)"
   ],
   "id": "fd0eb912a3a95aa5",
   "outputs": [],
   "execution_count": 110
  },
  {
   "metadata": {},
   "cell_type": "markdown",
   "source": "In step 5, I am filtering the dataset and selecting the top 5 participants with the highest pre-exercise blood pressure. The function is then comparing their pre- and post-exercise blood pressure measurements to calculate the differences. By comparing pre- and post-exercise blood pressure for the top 5 participants, we can assess the immediate effects of the exercise program on blood pressure. This analysis helps in understanding individual responses to different exercise regimens.",
   "id": "43d75762f5b51817"
  },
  {
   "metadata": {},
   "cell_type": "markdown",
   "source": "Step 6: Write a Python script to read the \"exercise_data.csv\" file and compute the measures of central tendency for each exercise group: mean, mode, standard deviation.",
   "id": "75f42c6085b9e66e"
  },
  {
   "metadata": {
    "ExecuteTime": {
     "end_time": "2024-05-22T18:28:10.281731Z",
     "start_time": "2024-05-22T18:28:10.272571Z"
    }
   },
   "cell_type": "code",
   "source": [
    "def compute_central_tendency(df):\n",
    "    \n",
    "    exercise_groups = df['Exercise Group'].unique()\n",
    "    \n",
    "    for group in exercise_groups:\n",
    "        group_df = df[df['Exercise Group'] == group]\n",
    "        print(f\"\\nExercise Group: {group}\")\n",
    "        \n",
    "        for column in ['Pre-Exercise Systolic Blood Pressure', 'Post-Exercise Systolic Blood Pressure']:\n",
    "            mean = group_df[column].mean()\n",
    "            \n",
    "            try:\n",
    "                mode_result = stats.mode(group_df[column], nan_policy='omit')\n",
    "                mode = mode_result.mode[0] if mode_result.mode.size > 0 else group_df[column].mode().iloc[0]\n",
    "            except:\n",
    "                mode = group_df[column].mode().iloc[0]\n",
    "            \n",
    "            std_dev = group_df[column].std()\n",
    "            \n",
    "            print(f\"  {column}:\")\n",
    "            print(f\"    Mean: {mean}\")\n",
    "            print(f\"    Mode: {mode}\")\n",
    "            print(f\"    Standard Deviation: {std_dev}\")"
   ],
   "id": "a5297e01d915995a",
   "outputs": [],
   "execution_count": 111
  },
  {
   "metadata": {},
   "cell_type": "markdown",
   "source": "In step 6, I am calculating the mean, mode, and standard deviation for pre- and post-exercise blood pressure within each exercise group. I am using Pandas and SciPy for the statistical computations. With this, we are able to summarize the distribution of blood pressure measurements within each exercise group. This analysis provides insights into the typical blood pressure levels and variability associated with each exercise.",
   "id": "d08df32583da17a1"
  },
  {
   "metadata": {},
   "cell_type": "markdown",
   "source": "This is my main script to run all the steps",
   "id": "b15cfbb85591abbb"
  },
  {
   "metadata": {
    "ExecuteTime": {
     "end_time": "2024-05-22T18:28:10.373714Z",
     "start_time": "2024-05-22T18:28:10.323520Z"
    }
   },
   "cell_type": "code",
   "source": [
    "if __name__ == \"__main__\":\n",
    "    filename = 'exercise_data.csv'\n",
    "    \n",
    "    # Step 1: Generating synthetic data\n",
    "    generate_synthetic_data(filename)\n",
    "    # Reading the generated CSV file\n",
    "    df = pd.read_csv(filename)\n",
    "    \n",
    "    # Step 2: Finding the participant w/ the highest pre-exercise bp in each group\n",
    "    find_highest_pre_exercise_bp(df)\n",
    "    \n",
    "    # Step 3: Sort by pre-exercise bp and display top 5\n",
    "    top_5_df = df.sort_values(by='Pre-Exercise Systolic Blood Pressure', ascending=False).head(5)\n",
    "    top_5_by_blood_pressure(df, 'Pre-Exercise Systolic Blood Pressure')\n",
    "    \n",
    "    # Step 4: Computing the avg monthly change in bp for each group\n",
    "    compute_average_monthly_change(df)\n",
    "    \n",
    "    # Step 5: Comparing pre- and post-exercise bp for top 5 participants\n",
    "    compare_pre_post_bp(df, top_5_df)\n",
    "    \n",
    "    # Step 6: Computing measures of the central tendency for each exercise group\n",
    "    compute_central_tendency(df)"
   ],
   "id": "64011107c3f10411",
   "outputs": [
    {
     "name": "stdout",
     "output_type": "stream",
     "text": [
      "Synthetic dataset save to 'exercise_data.csv'.\n",
      "Participant w/ the highest pre-exercise systolic blood pressure in each exercise group: \n",
      "   Exercise Group  Participant ID  Pre-Exercise Systolic Blood Pressure\n",
      "78        jogging              79                                   136\n",
      "75  weightlifting              76                                   139\n",
      "20           yoga              21                                   141\n",
      "Top 5 participants base on  Pre-Exercise Systolic Blood Pressure: \n",
      "    Participant ID Exercise Group  Pre-Exercise Systolic Blood Pressure  \\\n",
      "20              21           yoga                                   141   \n",
      "75              76  weightlifting                                   139   \n",
      "78              79        jogging                                   136   \n",
      "19              20        jogging                                   135   \n",
      "13              14           yoga                                   132   \n",
      "\n",
      "    Post-Exercise Systolic Blood Pressure  \n",
      "20                                    140  \n",
      "75                                    136  \n",
      "78                                    129  \n",
      "19                                    130  \n",
      "13                                    122  \n",
      "Average monthly change in blood pressure for each exercise group: \n",
      "Exercise Group\n",
      "jogging         -3.490196\n",
      "weightlifting   -2.228070\n",
      "yoga            -4.666667\n",
      "Name: Monthly Change in Blood Pressure, dtype: float64\n",
      "\n",
      "Exercise Group: weightlifting\n",
      "  Pre-Exercise Systolic Blood Pressure:\n",
      "    Mean: 120.05263157894737\n",
      "    Mode: 121\n",
      "    Standard Deviation: 8.392233759984231\n",
      "  Post-Exercise Systolic Blood Pressure:\n",
      "    Mean: 116.71052631578948\n",
      "    Mode: 118\n",
      "    Standard Deviation: 9.141257512218665\n",
      "\n",
      "Exercise Group: jogging\n",
      "  Pre-Exercise Systolic Blood Pressure:\n",
      "    Mean: 122.82352941176471\n",
      "    Mode: 123\n",
      "    Standard Deviation: 7.6335407735554135\n",
      "  Post-Exercise Systolic Blood Pressure:\n",
      "    Mean: 117.58823529411765\n",
      "    Mode: 117\n",
      "    Standard Deviation: 8.839023828794067\n",
      "\n",
      "Exercise Group: yoga\n",
      "  Pre-Exercise Systolic Blood Pressure:\n",
      "    Mean: 118.78571428571429\n",
      "    Mode: 116\n",
      "    Standard Deviation: 8.778581437993958\n",
      "  Post-Exercise Systolic Blood Pressure:\n",
      "    Mean: 111.78571428571429\n",
      "    Mode: 117\n",
      "    Standard Deviation: 10.195704043977589\n"
     ]
    }
   ],
   "execution_count": 112
  }
 ],
 "metadata": {
  "kernelspec": {
   "display_name": "Python 3",
   "language": "python",
   "name": "python3"
  },
  "language_info": {
   "codemirror_mode": {
    "name": "ipython",
    "version": 2
   },
   "file_extension": ".py",
   "mimetype": "text/x-python",
   "name": "python",
   "nbconvert_exporter": "python",
   "pygments_lexer": "ipython2",
   "version": "2.7.6"
  }
 },
 "nbformat": 4,
 "nbformat_minor": 5
}
